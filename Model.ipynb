{
 "cells": [
  {
   "cell_type": "markdown",
   "metadata": {},
   "source": [
    "## MUSIC GENRE CLASSIFICATION"
   ]
  },
  {
   "cell_type": "code",
   "execution_count": 14,
   "metadata": {},
   "outputs": [],
   "source": [
    "import json\n",
    "import numpy as np\n",
    "from sklearn.model_selection import train_test_split\n",
    "import tensorflow.keras as keras\n",
    "import matplotlib.pyplot as plt"
   ]
  },
  {
   "cell_type": "code",
   "execution_count": 15,
   "metadata": {},
   "outputs": [],
   "source": [
    "data_path = \"data_10.json\"\n",
    "with open(data_path, \"r\") as fp:\n",
    "    data = json.load(fp)\n",
    "\n",
    "X = np.array(data[\"mfcc\"])\n",
    "y = np.array(data[\"labels\"])"
   ]
  },
  {
   "cell_type": "code",
   "execution_count": 16,
   "metadata": {},
   "outputs": [
    {
     "data": {
      "text/plain": [
       "(9986, 130, 13)"
      ]
     },
     "execution_count": 16,
     "metadata": {},
     "output_type": "execute_result"
    }
   ],
   "source": [
    "X.shape"
   ]
  },
  {
   "cell_type": "code",
   "execution_count": 17,
   "metadata": {},
   "outputs": [],
   "source": [
    "\n",
    "test_size = 0.25\n",
    "validation_size = 0.2 \n",
    "\n",
    "# X, y = load_data(data_path)\n",
    "\n",
    "# create train, validation and test split\n",
    "X_train, X_test, y_train, y_test = train_test_split(X, y, test_size=test_size)\n",
    "X_train, X_validation, y_train, y_validation = train_test_split(X_train, y_train, test_size=validation_size)\n",
    "\n",
    "# add an axis to input sets\n",
    "X_train = X_train[..., np.newaxis]\n",
    "X_validation = X_validation[..., np.newaxis]\n",
    "X_test = X_test[..., np.newaxis]\n"
   ]
  },
  {
   "cell_type": "code",
   "execution_count": 18,
   "metadata": {},
   "outputs": [],
   "source": [
    "# build network topology\n",
    "input_shape = (X_train.shape[1], X_train.shape[2], 1) ; \n",
    "model = keras.Sequential()\n",
    "\n",
    "# 1st conv layer\n",
    "model.add(keras.layers.Conv2D(32, (3, 3), activation='relu', input_shape=input_shape))\n",
    "model.add(keras.layers.MaxPooling2D((3, 3), strides=(2, 2), padding='same'))\n",
    "model.add(keras.layers.BatchNormalization())\n",
    "\n",
    "# 2nd conv layer\n",
    "model.add(keras.layers.Conv2D(32, (3, 3), activation='relu'))\n",
    "model.add(keras.layers.MaxPooling2D((3, 3), strides=(2, 2), padding='same'))\n",
    "model.add(keras.layers.BatchNormalization())\n",
    "\n",
    "# 3rd conv layer\n",
    "model.add(keras.layers.Conv2D(32, (2, 2), activation='relu'))\n",
    "model.add(keras.layers.MaxPooling2D((2, 2), strides=(2, 2), padding='same'))\n",
    "model.add(keras.layers.BatchNormalization())\n",
    "\n",
    "# flatten output and feed it into dense layer\n",
    "model.add(keras.layers.Flatten())\n",
    "model.add(keras.layers.Dense(64, activation='relu'))\n",
    "model.add(keras.layers.Dropout(0.3))\n",
    "\n",
    "# output layer\n",
    "model.add(keras.layers.Dense(10, activation='softmax'))\n"
   ]
  },
  {
   "cell_type": "code",
   "execution_count": 19,
   "metadata": {},
   "outputs": [
    {
     "name": "stdout",
     "output_type": "stream",
     "text": [
      "Model: \"sequential_2\"\n",
      "_________________________________________________________________\n",
      "Layer (type)                 Output Shape              Param #   \n",
      "=================================================================\n",
      "conv2d_6 (Conv2D)            (None, 128, 11, 32)       320       \n",
      "_________________________________________________________________\n",
      "max_pooling2d_6 (MaxPooling2 (None, 64, 6, 32)         0         \n",
      "_________________________________________________________________\n",
      "batch_normalization_6 (Batch (None, 64, 6, 32)         128       \n",
      "_________________________________________________________________\n",
      "conv2d_7 (Conv2D)            (None, 62, 4, 32)         9248      \n",
      "_________________________________________________________________\n",
      "max_pooling2d_7 (MaxPooling2 (None, 31, 2, 32)         0         \n",
      "_________________________________________________________________\n",
      "batch_normalization_7 (Batch (None, 31, 2, 32)         128       \n",
      "_________________________________________________________________\n",
      "conv2d_8 (Conv2D)            (None, 30, 1, 32)         4128      \n",
      "_________________________________________________________________\n",
      "max_pooling2d_8 (MaxPooling2 (None, 15, 1, 32)         0         \n",
      "_________________________________________________________________\n",
      "batch_normalization_8 (Batch (None, 15, 1, 32)         128       \n",
      "_________________________________________________________________\n",
      "flatten_2 (Flatten)          (None, 480)               0         \n",
      "_________________________________________________________________\n",
      "dense_4 (Dense)              (None, 64)                30784     \n",
      "_________________________________________________________________\n",
      "dropout_2 (Dropout)          (None, 64)                0         \n",
      "_________________________________________________________________\n",
      "dense_5 (Dense)              (None, 10)                650       \n",
      "=================================================================\n",
      "Total params: 45,514\n",
      "Trainable params: 45,322\n",
      "Non-trainable params: 192\n",
      "_________________________________________________________________\n"
     ]
    }
   ],
   "source": [
    "optimiser = keras.optimizers.Adam(learning_rate=0.0001)\n",
    "model.compile(optimizer=optimiser,\n",
    "              loss='sparse_categorical_crossentropy',\n",
    "              metrics=['accuracy'])\n",
    "\n",
    "model.summary()\n"
   ]
  },
  {
   "cell_type": "code",
   "execution_count": 20,
   "metadata": {},
   "outputs": [
    {
     "name": "stdout",
     "output_type": "stream",
     "text": [
      "Train on 5991 samples, validate on 1498 samples\n",
      "Epoch 1/30\n",
      "5991/5991 [==============================] - 15s 2ms/sample - loss: 2.3799 - acc: 0.2419 - val_loss: 1.8486 - val_acc: 0.3818\n",
      "Epoch 2/30\n",
      "5991/5991 [==============================] - 13s 2ms/sample - loss: 1.8662 - acc: 0.3634 - val_loss: 1.5381 - val_acc: 0.4660\n",
      "Epoch 3/30\n",
      "5991/5991 [==============================] - 14s 2ms/sample - loss: 1.6473 - acc: 0.4206 - val_loss: 1.3944 - val_acc: 0.5040\n",
      "Epoch 4/30\n",
      "5991/5991 [==============================] - 13s 2ms/sample - loss: 1.5141 - acc: 0.4607 - val_loss: 1.3078 - val_acc: 0.5260\n",
      "Epoch 5/30\n",
      "5991/5991 [==============================] - 14s 2ms/sample - loss: 1.4297 - acc: 0.4904 - val_loss: 1.2656 - val_acc: 0.5441\n",
      "Epoch 6/30\n",
      "5991/5991 [==============================] - 19s 3ms/sample - loss: 1.3756 - acc: 0.4999 - val_loss: 1.2027 - val_acc: 0.5741\n",
      "Epoch 7/30\n",
      "5991/5991 [==============================] - 15s 3ms/sample - loss: 1.3215 - acc: 0.5256 - val_loss: 1.1623 - val_acc: 0.5661\n",
      "Epoch 8/30\n",
      "5991/5991 [==============================] - 12s 2ms/sample - loss: 1.2450 - acc: 0.5553 - val_loss: 1.1157 - val_acc: 0.6048\n",
      "Epoch 9/30\n",
      "5991/5991 [==============================] - 13s 2ms/sample - loss: 1.2103 - acc: 0.5665 - val_loss: 1.1027 - val_acc: 0.6202\n",
      "Epoch 10/30\n",
      "5991/5991 [==============================] - 22s 4ms/sample - loss: 1.1737 - acc: 0.5805 - val_loss: 1.0652 - val_acc: 0.6342\n",
      "Epoch 11/30\n",
      "5991/5991 [==============================] - 16s 3ms/sample - loss: 1.1287 - acc: 0.6004 - val_loss: 1.0349 - val_acc: 0.6469\n",
      "Epoch 12/30\n",
      "5991/5991 [==============================] - 13s 2ms/sample - loss: 1.1181 - acc: 0.6037 - val_loss: 1.0133 - val_acc: 0.6489\n",
      "Epoch 13/30\n",
      "5991/5991 [==============================] - 13s 2ms/sample - loss: 1.0726 - acc: 0.6121 - val_loss: 0.9877 - val_acc: 0.6629\n",
      "Epoch 14/30\n",
      "5991/5991 [==============================] - 13s 2ms/sample - loss: 1.0350 - acc: 0.6299 - val_loss: 0.9773 - val_acc: 0.6589\n",
      "Epoch 15/30\n",
      "5991/5991 [==============================] - 12s 2ms/sample - loss: 1.0071 - acc: 0.6396 - val_loss: 0.9497 - val_acc: 0.6789\n",
      "Epoch 16/30\n",
      "5991/5991 [==============================] - 12s 2ms/sample - loss: 0.9946 - acc: 0.6511 - val_loss: 0.9359 - val_acc: 0.6769\n",
      "Epoch 17/30\n",
      "5991/5991 [==============================] - 15s 2ms/sample - loss: 0.9568 - acc: 0.6658 - val_loss: 0.9111 - val_acc: 0.6923\n",
      "Epoch 18/30\n",
      "5991/5991 [==============================] - 14s 2ms/sample - loss: 0.9175 - acc: 0.6727 - val_loss: 0.9087 - val_acc: 0.6936\n",
      "Epoch 19/30\n",
      "5991/5991 [==============================] - 14s 2ms/sample - loss: 0.9160 - acc: 0.6743 - val_loss: 0.9222 - val_acc: 0.6862\n",
      "Epoch 20/30\n",
      "5991/5991 [==============================] - 13s 2ms/sample - loss: 0.8812 - acc: 0.6902 - val_loss: 0.8991 - val_acc: 0.6883\n",
      "Epoch 21/30\n",
      "5991/5991 [==============================] - 14s 2ms/sample - loss: 0.8736 - acc: 0.6937 - val_loss: 0.8807 - val_acc: 0.7029\n",
      "Epoch 22/30\n",
      "5991/5991 [==============================] - 12s 2ms/sample - loss: 0.8410 - acc: 0.7074 - val_loss: 0.8717 - val_acc: 0.6956\n",
      "Epoch 23/30\n",
      "5991/5991 [==============================] - 13s 2ms/sample - loss: 0.8206 - acc: 0.7121 - val_loss: 0.8477 - val_acc: 0.7170\n",
      "Epoch 24/30\n",
      "5991/5991 [==============================] - 12s 2ms/sample - loss: 0.8067 - acc: 0.7204 - val_loss: 0.8370 - val_acc: 0.7170\n",
      "Epoch 25/30\n",
      "5991/5991 [==============================] - 12s 2ms/sample - loss: 0.7950 - acc: 0.7244 - val_loss: 0.8347 - val_acc: 0.7163\n",
      "Epoch 26/30\n",
      "5991/5991 [==============================] - 12s 2ms/sample - loss: 0.7677 - acc: 0.7313 - val_loss: 0.8308 - val_acc: 0.7156\n",
      "Epoch 27/30\n",
      "5991/5991 [==============================] - 12s 2ms/sample - loss: 0.7450 - acc: 0.7401 - val_loss: 0.8486 - val_acc: 0.7076\n",
      "Epoch 28/30\n",
      "5991/5991 [==============================] - 12s 2ms/sample - loss: 0.7368 - acc: 0.7438 - val_loss: 0.8207 - val_acc: 0.7170\n",
      "Epoch 29/30\n",
      "5991/5991 [==============================] - 13s 2ms/sample - loss: 0.7172 - acc: 0.7521 - val_loss: 0.8121 - val_acc: 0.7303\n",
      "Epoch 30/30\n",
      "5991/5991 [==============================] - 12s 2ms/sample - loss: 0.7201 - acc: 0.7508 - val_loss: 0.8552 - val_acc: 0.7143\n",
      "2497/2497 - 2s - loss: 0.8498 - acc: 0.6976\n",
      "\n",
      "Test accuracy: 0.69763714\n"
     ]
    }
   ],
   "source": [
    "history = model.fit(X_train, y_train, validation_data=(X_validation, y_validation), batch_size=32, epochs=30)\n",
    "test_loss, test_acc = model.evaluate(X_test, y_test, verbose=2)\n",
    "print('\\nTest accuracy:', test_acc)\n"
   ]
  },
  {
   "cell_type": "markdown",
   "metadata": {},
   "source": [
    "### TEST ACCURACY"
   ]
  },
  {
   "cell_type": "code",
   "execution_count": 21,
   "metadata": {},
   "outputs": [
    {
     "name": "stdout",
     "output_type": "stream",
     "text": [
      "\n",
      "Test accuracy: 0.69763714\n"
     ]
    }
   ],
   "source": [
    "print('\\nTest accuracy:', test_acc)\n"
   ]
  },
  {
   "cell_type": "code",
   "execution_count": null,
   "metadata": {},
   "outputs": [],
   "source": []
  }
 ],
 "metadata": {
  "kernelspec": {
   "display_name": "Python 3",
   "language": "python",
   "name": "python3"
  },
  "language_info": {
   "codemirror_mode": {
    "name": "ipython",
    "version": 3
   },
   "file_extension": ".py",
   "mimetype": "text/x-python",
   "name": "python",
   "nbconvert_exporter": "python",
   "pygments_lexer": "ipython3",
   "version": "3.7.4"
  }
 },
 "nbformat": 4,
 "nbformat_minor": 4
}
